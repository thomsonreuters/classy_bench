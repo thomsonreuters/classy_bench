{
 "cells": [
  {
   "cell_type": "markdown",
   "metadata": {},
   "source": [
    "# How to run a benchmark"
   ]
  },
  {
   "cell_type": "code",
   "execution_count": null,
   "metadata": {},
   "outputs": [],
   "source": [
    "from pathlib import Path\n",
    "\n",
    "from classy_bench import AWSBenchmarkRunner"
   ]
  },
  {
   "cell_type": "code",
   "execution_count": null,
   "metadata": {},
   "outputs": [],
   "source": [
    "CONFIG_PATH = Path(\"config.json\")"
   ]
  },
  {
   "cell_type": "code",
   "execution_count": null,
   "metadata": {},
   "outputs": [],
   "source": [
    "benchmark_runner = AWSBenchmarkRunner(\n",
    "    experiment_name=\"my_experiment\",\n",
    "    trial_name=\"trial_1\",\n",
    "    sagemaker_session_s3_bucket=\"my-aws-bucket\",\n",
    "    role_arn=\"arn:aws:iam::123456789012:role/role-name\",\n",
    "    benchmark_config_path=CONFIG_PATH,\n",
    ")"
   ]
  },
  {
   "cell_type": "code",
   "execution_count": null,
   "metadata": {},
   "outputs": [],
   "source": [
    "# Run the benchmark with the input data stored in S3\n",
    "benchmark_runner.run_trial(s3_input_data_uri=\"s3://my-aws-bucket/path/to/input/data\")"
   ]
  },
  {
   "cell_type": "code",
   "execution_count": null,
   "metadata": {},
   "outputs": [],
   "source": [
    "# View the current status of the benchmark execution\n",
    "benchmark_runner.view_current_benchmark_execution_status()"
   ]
  },
  {
   "cell_type": "code",
   "execution_count": null,
   "metadata": {},
   "outputs": [],
   "source": [
    "# View the benchmark results\n",
    "benchmark_runner.get_metric_results_dataframe()"
   ]
  }
 ],
 "metadata": {
  "kernelspec": {
   "display_name": "classy-bench",
   "language": "python",
   "name": "python3"
  },
  "language_info": {
   "codemirror_mode": {
    "name": "ipython",
    "version": 3
   },
   "file_extension": ".py",
   "mimetype": "text/x-python",
   "name": "python",
   "nbconvert_exporter": "python",
   "pygments_lexer": "ipython3",
   "version": "3.10.14"
  }
 },
 "nbformat": 4,
 "nbformat_minor": 2
}
